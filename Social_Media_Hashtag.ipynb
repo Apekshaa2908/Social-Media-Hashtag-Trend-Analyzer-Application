{
  "nbformat": 4,
  "nbformat_minor": 0,
  "metadata": {
    "colab": {
      "provenance": [],
      "authorship_tag": "ABX9TyOzCJQuBgZ4x4R/TZLbcDoY",
      "include_colab_link": true
    },
    "kernelspec": {
      "name": "python3",
      "display_name": "Python 3"
    },
    "language_info": {
      "name": "python"
    }
  },
  "cells": [
    {
      "cell_type": "markdown",
      "metadata": {
        "id": "view-in-github",
        "colab_type": "text"
      },
      "source": [
        "<a href=\"https://colab.research.google.com/github/Apekshaa2908/Social-Media-Hashtag-Trend-Analyzer-Application/blob/main/Social_Media_Hashtag.ipynb\" target=\"_parent\"><img src=\"https://colab.research.google.com/assets/colab-badge.svg\" alt=\"Open In Colab\"/></a>"
      ]
    },
    {
      "cell_type": "code",
      "source": [
        "%%writefile app.py\n",
        "import streamlit as st\n",
        "import boto3\n",
        "import uuid\n",
        "\n",
        "# Initialize DynamoDB client with AWS credentials\n",
        "aws_access_key_id = 'id'\n",
        "aws_secret_access_key = 'key'\n",
        "region_name = 'region_name'\n",
        "lambda_url = 'url'\n",
        "\n",
        "dynamodb = boto3.resource(\n",
        "    'dynamodb',\n",
        "    aws_access_key_id=aws_access_key_id,\n",
        "    aws_secret_access_key=aws_secret_access_key,\n",
        "    region_name=region_name\n",
        ")\n",
        "\n",
        "# Get reference to the DynamoDB table\n",
        "table = dynamodb.Table('Trend')\n",
        "\n",
        "# Streamlit UI components\n",
        "st.title('Post Composer')\n",
        "\n",
        "# Input field for text content\n",
        "post_content = st.text_area('Compose your post:', height=100)\n",
        "\n",
        "# Input field for hashtags\n",
        "hashtags = st.text_input('Add hashtags (comma-separated):')\n",
        "\n",
        "# Button to submit the post\n",
        "if st.button('Publish'):\n",
        "    # Process the post and hashtags\n",
        "    post_data = {\n",
        "        'post_id': str(uuid.uuid4()),\n",
        "        'content': post_content,\n",
        "        'hashtags': [tag.strip() for tag in hashtags.split(',')]\n",
        "    }\n",
        "\n",
        "    # Store the post in DynamoDB\n",
        "    table.put_item(Item=post_data)\n",
        "\n",
        "    # Clear input fields after submission\n",
        "    post_content = ''\n",
        "    hashtags = ''\n",
        "\n",
        "    # Display success message\n",
        "    st.success('Post published successfully!')\n",
        "\n",
        "st.title('Trending Hashtags')\n",
        "\n",
        "# Query DynamoDB table to fetch trending hashtags\n",
        "response = table.scan()\n",
        "\n",
        "# Extract hashtags from items and count occurrences\n",
        "hashtags_count = {}\n",
        "for item in response['Items']:\n",
        "    for hashtag in item['hashtags']:\n",
        "        hashtags_count[hashtag] = hashtags_count.get(hashtag, 0) + 1\n",
        "\n",
        "# Sort hashtags by count in descending order\n",
        "sorted_hashtags = sorted(hashtags_count.items(), key=lambda x: x[1], reverse=True)\n",
        "\n",
        "# Display top 3 trending hashtags\n",
        "st.write(\"Top 3 Trending Hashtags:\")\n",
        "for hashtag, count in sorted_hashtags[:3]:\n",
        "    st.write(f\"{hashtag}: {count} posts\")"
      ],
      "metadata": {
        "colab": {
          "base_uri": "https://localhost:8080/"
        },
        "id": "iCIYEHmTisN2",
        "outputId": "9bd62f80-60dc-470e-ed9e-d2cc7518793a"
      },
      "execution_count": 13,
      "outputs": [
        {
          "output_type": "stream",
          "name": "stdout",
          "text": [
            "Overwriting app.py\n"
          ]
        }
      ]
    },
    {
      "cell_type": "code",
      "source": [
        "! wget -q -O - ipv4.icanhazip.com\n",
        "! streamlit run app.py & npx localtunnel --port 8501"
      ],
      "metadata": {
        "id": "0TYpPzd0vI-s"
      },
      "execution_count": null,
      "outputs": []
    }
  ]
}