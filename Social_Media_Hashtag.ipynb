{
  "nbformat": 4,
  "nbformat_minor": 0,
  "metadata": {
    "colab": {
      "provenance": [],
      "authorship_tag": "ABX9TyMf8cCGKPpXG/XP45RPCigg",
      "include_colab_link": true
    },
    "kernelspec": {
      "name": "python3",
      "display_name": "Python 3"
    },
    "language_info": {
      "name": "python"
    }
  },
  "cells": [
    {
      "cell_type": "markdown",
      "metadata": {
        "id": "view-in-github",
        "colab_type": "text"
      },
      "source": [
        "<a href=\"https://colab.research.google.com/github/Apekshaa2908/Social-Media-Hashtag-Trend-Analyzer-Application/blob/main/Social_Media_Hashtag.ipynb\" target=\"_parent\"><img src=\"https://colab.research.google.com/assets/colab-badge.svg\" alt=\"Open In Colab\"/></a>"
      ]
    },
    {
      "cell_type": "code",
      "source": [
        "%%writefile app.py\n",
        "import streamlit as st\n",
        "import requests\n",
        "import uuid\n",
        "import json\n",
        "\n",
        "# AWS Configuration\n",
        "aws_access_key_id = 'aws_access_key_id'\n",
        "aws_secret_access_key = 'aws_secret_access_key'\n",
        "region_name = 'region_name'\n",
        "lambda_url = 'lambda_url'  # Replace with your API Gateway endpoint\n",
        "\n",
        "# Streamlit UI components\n",
        "st.title('Post Composer')\n",
        "\n",
        "# Input field for text content\n",
        "post_content = st.text_area('Compose your post:', height=100)\n",
        "\n",
        "# Input field for hashtags\n",
        "hashtags = st.text_input('Add hashtags (comma-separated):')\n",
        "\n",
        "# Button to submit the post\n",
        "if st.button('Publish'):\n",
        "    if post_content and hashtags:\n",
        "        # Process the post and hashtags\n",
        "        post_data = {\n",
        "            'post_id': str(uuid.uuid4()),\n",
        "            'content': post_content,\n",
        "            'hashtags': [tag.strip() for tag in hashtags.split(',') if tag.strip()]\n",
        "        }\n",
        "\n",
        "        # Send the post data to AWS Lambda\n",
        "        try:\n",
        "            response = requests.post(lambda_url, json=post_data)\n",
        "            if response.status_code == 200:\n",
        "                st.success('Post published successfully!')\n",
        "                st.write(response.json())  # Display response body\n",
        "            else:\n",
        "                st.error(f'Failed to publish post. Status code: {response.status_code}')\n",
        "                st.write(f'Response: {response.text}')\n",
        "        except Exception as e:\n",
        "            st.error(f'Error publishing post: {e}')\n",
        "    else:\n",
        "        st.error('Post content or hashtags are missing.')\n",
        "\n",
        "st.title('Trending Hashtags')\n",
        "\n",
        "# Button to show trending hashtags\n",
        "if st.button('Show Trending Hashtags'):\n",
        "    # Query DynamoDB table to fetch trending hashtags\n",
        "    try:\n",
        "        response = table.scan()\n",
        "        hashtags_count = {}\n",
        "        for item in response['Items']:\n",
        "            for hashtag in item.get('hashtags', []):\n",
        "                hashtags_count[hashtag] = hashtags_count.get(hashtag, 0) + 1\n",
        "\n",
        "        # Sort hashtags by count in descending order\n",
        "        sorted_hashtags = sorted(hashtags_count.items(), key=lambda x: x[1], reverse=True)\n",
        "\n",
        "        # Display top 3 trending hashtags\n",
        "        st.write(\"Top 3 Trending Hashtags:\")\n",
        "        for hashtag, count in sorted_hashtags[:3]:\n",
        "            st.write(f\"{hashtag}: {count} posts\")\n",
        "    except Exception as e:\n",
        "        st.error(f'Error fetching trending hashtags: {e}')\n"
      ],
      "metadata": {
        "id": "xqrWh-cTvgD3"
      },
      "execution_count": null,
      "outputs": []
    },
    {
      "cell_type": "code",
      "source": [
        "! wget -q -O - ipv4.icanhazip.com\n",
        "! streamlit run app.py & npx localtunnel --port 8501"
      ],
      "metadata": {
        "id": "1lH9pEGyvlND"
      },
      "execution_count": null,
      "outputs": []
    }
  ]
}