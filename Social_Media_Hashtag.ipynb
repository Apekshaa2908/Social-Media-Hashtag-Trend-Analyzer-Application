{
  "nbformat": 4,
  "nbformat_minor": 0,
  "metadata": {
    "colab": {
      "provenance": [],
      "authorship_tag": "ABX9TyPrfXXC5V9srt5yBC55Ah7g",
      "include_colab_link": true
    },
    "kernelspec": {
      "name": "python3",
      "display_name": "Python 3"
    },
    "language_info": {
      "name": "python"
    }
  },
  "cells": [
    {
      "cell_type": "markdown",
      "metadata": {
        "id": "view-in-github",
        "colab_type": "text"
      },
      "source": [
        "<a href=\"https://colab.research.google.com/github/Apekshaa2908/Social-Media-Hashtag-Trend-Analyzer-Application/blob/main/Social_Media_Hashtag.ipynb\" target=\"_parent\"><img src=\"https://colab.research.google.com/assets/colab-badge.svg\" alt=\"Open In Colab\"/></a>"
      ]
    },
    {
      "cell_type": "code",
      "execution_count": null,
      "metadata": {
        "id": "96adzIxyB1kA"
      },
      "outputs": [],
      "source": [
        "# This is the code for AWS Lambda\n",
        "import json\n",
        "import boto3\n",
        "\n",
        "def lambda_handler(event, context):\n",
        "    # Initialize DynamoDB resource\n",
        "    dynamodb = boto3.resource('dynamodb', region_name='ap-southeast-2')\n",
        "    table = dynamodb.Table('Trend')\n",
        "\n",
        "    # Extract post data from the event\n",
        "    try:\n",
        "        post_data = json.loads(event['body'])\n",
        "        post_id = post_data['post_id']\n",
        "        content = post_data['content']\n",
        "        hashtags = post_data.get('hashtags', [])\n",
        "\n",
        "        # Prepare the item to be stored in DynamoDB\n",
        "        item = {\n",
        "            'post_id': post_id,\n",
        "            'content': content,\n",
        "            'hashtags': hashtags\n",
        "        }\n",
        "\n",
        "        # Store the post in DynamoDB\n",
        "        table.put_item(Item=item)\n",
        "\n",
        "        # Return a successful response\n",
        "        return {\n",
        "            'statusCode': 200,\n",
        "            'body': json.dumps('Post processed successfully!')\n",
        "        }\n",
        "\n",
        "    except Exception as e:\n",
        "        # Return an error response\n",
        "        return {\n",
        "            'statusCode': 500,\n",
        "            'body': json.dumps(f'Error processing the post: {str(e)}')\n",
        "        }\n"
      ]
    },
    {
      "cell_type": "code",
      "source": [
        "%%writefile app.py\n",
        "import streamlit as st\n",
        "import requests\n",
        "import uuid\n",
        "import json\n",
        "\n",
        "# AWS Configuration\n",
        "aws_access_key_id = 'aws_access_key_id'\n",
        "aws_secret_access_key = 'aws_secret_access_key'\n",
        "region_name = 'region_name'\n",
        "lambda_url = 'lambda_url'  # Replace with your API Gateway endpoint\n",
        "\n",
        "# Streamlit UI components\n",
        "st.title('Post Composer')\n",
        "\n",
        "# Input field for text content\n",
        "post_content = st.text_area('Compose your post:', height=100)\n",
        "\n",
        "# Input field for hashtags\n",
        "hashtags = st.text_input('Add hashtags (comma-separated):')\n",
        "\n",
        "# Button to submit the post\n",
        "if st.button('Publish'):\n",
        "    if post_content and hashtags:\n",
        "        # Process the post and hashtags\n",
        "        post_data = {\n",
        "            'post_id': str(uuid.uuid4()),\n",
        "            'content': post_content,\n",
        "            'hashtags': [tag.strip() for tag in hashtags.split(',') if tag.strip()]\n",
        "        }\n",
        "\n",
        "        # Send the post data to AWS Lambda\n",
        "        try:\n",
        "            response = requests.post(lambda_url, json=post_data)\n",
        "            if response.status_code == 200:\n",
        "                st.success('Post published successfully!')\n",
        "                st.write(response.json())  # Display response body\n",
        "            else:\n",
        "                st.error(f'Failed to publish post. Status code: {response.status_code}')\n",
        "                st.write(f'Response: {response.text}')\n",
        "        except Exception as e:\n",
        "            st.error(f'Error publishing post: {e}')\n",
        "    else:\n",
        "        st.error('Post content or hashtags are missing.')\n",
        "\n",
        "st.title('Trending Hashtags')\n",
        "\n",
        "# Button to show trending hashtags\n",
        "if st.button('Show Trending Hashtags'):\n",
        "    # Query DynamoDB table to fetch trending hashtags\n",
        "    try:\n",
        "        response = table.scan()\n",
        "        hashtags_count = {}\n",
        "        for item in response['Items']:\n",
        "            for hashtag in item.get('hashtags', []):\n",
        "                hashtags_count[hashtag] = hashtags_count.get(hashtag, 0) + 1\n",
        "\n",
        "        # Sort hashtags by count in descending order\n",
        "        sorted_hashtags = sorted(hashtags_count.items(), key=lambda x: x[1], reverse=True)\n",
        "\n",
        "        # Display top 3 trending hashtags\n",
        "        st.write(\"Top 3 Trending Hashtags:\")\n",
        "        for hashtag, count in sorted_hashtags[:3]:\n",
        "            st.write(f\"{hashtag}: {count} posts\")\n",
        "    except Exception as e:\n",
        "        st.error(f'Error fetching trending hashtags: {e}')\n"
      ],
      "metadata": {
        "id": "xqrWh-cTvgD3"
      },
      "execution_count": null,
      "outputs": []
    },
    {
      "cell_type": "code",
      "source": [
        "! wget -q -O - ipv4.icanhazip.com\n",
        "! streamlit run app.py & npx localtunnel --port 8501"
      ],
      "metadata": {
        "id": "1lH9pEGyvlND"
      },
      "execution_count": null,
      "outputs": []
    }
  ]
}