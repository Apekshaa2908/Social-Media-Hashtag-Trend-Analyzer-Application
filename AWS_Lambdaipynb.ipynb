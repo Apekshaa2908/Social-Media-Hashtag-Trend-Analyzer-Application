{
  "nbformat": 4,
  "nbformat_minor": 0,
  "metadata": {
    "colab": {
      "provenance": [],
      "authorship_tag": "ABX9TyPVSAPIK4xVwdnIrRhftwj0",
      "include_colab_link": true
    },
    "kernelspec": {
      "name": "python3",
      "display_name": "Python 3"
    },
    "language_info": {
      "name": "python"
    }
  },
  "cells": [
    {
      "cell_type": "markdown",
      "metadata": {
        "id": "view-in-github",
        "colab_type": "text"
      },
      "source": [
        "<a href=\"https://colab.research.google.com/github/Apekshaa2908/Social-Media-Hashtag-Trend-Analyzer-Application/blob/main/AWS_Lambdaipynb.ipynb\" target=\"_parent\"><img src=\"https://colab.research.google.com/assets/colab-badge.svg\" alt=\"Open In Colab\"/></a>"
      ]
    },
    {
      "cell_type": "code",
      "execution_count": null,
      "metadata": {
        "id": "YEGEAOlk3XY0"
      },
      "outputs": [],
      "source": [
        "# This is the code for AWS Lambda\n",
        "import json\n",
        "import boto3\n",
        "\n",
        "def lambda_handler(event, context):\n",
        "    # Initialize DynamoDB resource\n",
        "    dynamodb = boto3.resource('dynamodb', region_name='ap-southeast-2')\n",
        "    table = dynamodb.Table('Trend')\n",
        "\n",
        "    # Extract post data from the event\n",
        "    try:\n",
        "        post_data = json.loads(event['body'])\n",
        "        post_id = post_data['post_id']\n",
        "        content = post_data['content']\n",
        "        hashtags = post_data.get('hashtags', [])\n",
        "\n",
        "        # Prepare the item to be stored in DynamoDB\n",
        "        item = {\n",
        "            'post_id': post_id,\n",
        "            'content': content,\n",
        "            'hashtags': hashtags\n",
        "        }\n",
        "\n",
        "        # Store the post in DynamoDB\n",
        "        table.put_item(Item=item)\n",
        "\n",
        "        # Return a successful response\n",
        "        return {\n",
        "            'statusCode': 200,\n",
        "            'body': json.dumps('Post processed successfully!')\n",
        "        }\n",
        "\n",
        "    except Exception as e:\n",
        "        # Return an error response\n",
        "        return {\n",
        "            'statusCode': 500,\n",
        "            'body': json.dumps(f'Error processing the post: {str(e)}')\n",
        "        }\n"
      ]
    }
  ]
}